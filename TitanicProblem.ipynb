{
  "nbformat": 4,
  "nbformat_minor": 0,
  "metadata": {
    "colab": {
      "name": "TitanicProblem.ipynb",
      "version": "0.3.2",
      "provenance": [],
      "include_colab_link": true
    },
    "kernelspec": {
      "name": "python3",
      "display_name": "Python 3"
    }
  },
  "cells": [
    {
      "cell_type": "markdown",
      "metadata": {
        "id": "view-in-github",
        "colab_type": "text"
      },
      "source": [
        "<a href=\"https://colab.research.google.com/github/techtour/MachineLearning/blob/master/TitanicProblem.ipynb\" target=\"_parent\"><img src=\"https://colab.research.google.com/assets/colab-badge.svg\" alt=\"Open In Colab\"/></a>"
      ]
    },
    {
      "metadata": {
        "id": "A6j-WCHk8tr9",
        "colab_type": "text"
      },
      "cell_type": "markdown",
      "source": [
        "# **Loading dependencies**"
      ]
    },
    {
      "metadata": {
        "id": "87yizgKr9D7I",
        "colab_type": "code",
        "colab": {}
      },
      "cell_type": "code",
      "source": [
        "import numpy as np                                             # to perform numerical operation\n",
        "import pandas as pd                                            # to manipulate data\n",
        "import matplotlib.pyplot as plt                                # to plot data into different graphs\n",
        "from sklearn.linear_model import LogisticRegression            # for Machine Learning algorithms (Logistic Regression)\n",
        "from sklearn.model_selection import cross_val_score            # for Cross validation score\n",
        "from sklearn.ensemble import RandomForestClassifier            # for Machine Learning algorithms (Random Forest)"
      ],
      "execution_count": 0,
      "outputs": []
    },
    {
      "metadata": {
        "id": "oZfdOIAwADrb",
        "colab_type": "text"
      },
      "cell_type": "markdown",
      "source": [
        "# **Reading the data set into pandas Dataframe**"
      ]
    },
    {
      "metadata": {
        "id": "raLkOPK9-6rG",
        "colab_type": "code",
        "outputId": "b9f60fb2-641e-4284-d041-a60cf9027193",
        "colab": {
          "base_uri": "https://localhost:8080/",
          "height": 204
        }
      },
      "cell_type": "code",
      "source": [
        "titanic_df = pd.read_csv(\"train.csv\")\n",
        "titanic_df.head()                           # printing top 5 data"
      ],
      "execution_count": 0,
      "outputs": [
        {
          "output_type": "execute_result",
          "data": {
            "text/html": [
              "<div>\n",
              "<style scoped>\n",
              "    .dataframe tbody tr th:only-of-type {\n",
              "        vertical-align: middle;\n",
              "    }\n",
              "\n",
              "    .dataframe tbody tr th {\n",
              "        vertical-align: top;\n",
              "    }\n",
              "\n",
              "    .dataframe thead th {\n",
              "        text-align: right;\n",
              "    }\n",
              "</style>\n",
              "<table border=\"1\" class=\"dataframe\">\n",
              "  <thead>\n",
              "    <tr style=\"text-align: right;\">\n",
              "      <th></th>\n",
              "      <th>PassengerId</th>\n",
              "      <th>Survived</th>\n",
              "      <th>Pclass</th>\n",
              "      <th>Name</th>\n",
              "      <th>Sex</th>\n",
              "      <th>Age</th>\n",
              "      <th>SibSp</th>\n",
              "      <th>Parch</th>\n",
              "      <th>Ticket</th>\n",
              "      <th>Fare</th>\n",
              "      <th>Cabin</th>\n",
              "      <th>Embarked</th>\n",
              "    </tr>\n",
              "  </thead>\n",
              "  <tbody>\n",
              "    <tr>\n",
              "      <th>0</th>\n",
              "      <td>1</td>\n",
              "      <td>0</td>\n",
              "      <td>3</td>\n",
              "      <td>Braund, Mr. Owen Harris</td>\n",
              "      <td>male</td>\n",
              "      <td>22.0</td>\n",
              "      <td>1</td>\n",
              "      <td>0</td>\n",
              "      <td>A/5 21171</td>\n",
              "      <td>7.2500</td>\n",
              "      <td>NaN</td>\n",
              "      <td>S</td>\n",
              "    </tr>\n",
              "    <tr>\n",
              "      <th>1</th>\n",
              "      <td>2</td>\n",
              "      <td>1</td>\n",
              "      <td>1</td>\n",
              "      <td>Cumings, Mrs. John Bradley (Florence Briggs Th...</td>\n",
              "      <td>female</td>\n",
              "      <td>38.0</td>\n",
              "      <td>1</td>\n",
              "      <td>0</td>\n",
              "      <td>PC 17599</td>\n",
              "      <td>71.2833</td>\n",
              "      <td>C85</td>\n",
              "      <td>C</td>\n",
              "    </tr>\n",
              "    <tr>\n",
              "      <th>2</th>\n",
              "      <td>3</td>\n",
              "      <td>1</td>\n",
              "      <td>3</td>\n",
              "      <td>Heikkinen, Miss. Laina</td>\n",
              "      <td>female</td>\n",
              "      <td>26.0</td>\n",
              "      <td>0</td>\n",
              "      <td>0</td>\n",
              "      <td>STON/O2. 3101282</td>\n",
              "      <td>7.9250</td>\n",
              "      <td>NaN</td>\n",
              "      <td>S</td>\n",
              "    </tr>\n",
              "    <tr>\n",
              "      <th>3</th>\n",
              "      <td>4</td>\n",
              "      <td>1</td>\n",
              "      <td>1</td>\n",
              "      <td>Futrelle, Mrs. Jacques Heath (Lily May Peel)</td>\n",
              "      <td>female</td>\n",
              "      <td>35.0</td>\n",
              "      <td>1</td>\n",
              "      <td>0</td>\n",
              "      <td>113803</td>\n",
              "      <td>53.1000</td>\n",
              "      <td>C123</td>\n",
              "      <td>S</td>\n",
              "    </tr>\n",
              "    <tr>\n",
              "      <th>4</th>\n",
              "      <td>5</td>\n",
              "      <td>0</td>\n",
              "      <td>3</td>\n",
              "      <td>Allen, Mr. William Henry</td>\n",
              "      <td>male</td>\n",
              "      <td>35.0</td>\n",
              "      <td>0</td>\n",
              "      <td>0</td>\n",
              "      <td>373450</td>\n",
              "      <td>8.0500</td>\n",
              "      <td>NaN</td>\n",
              "      <td>S</td>\n",
              "    </tr>\n",
              "  </tbody>\n",
              "</table>\n",
              "</div>"
            ],
            "text/plain": [
              "   PassengerId  Survived  Pclass  \\\n",
              "0            1         0       3   \n",
              "1            2         1       1   \n",
              "2            3         1       3   \n",
              "3            4         1       1   \n",
              "4            5         0       3   \n",
              "\n",
              "                                                Name     Sex   Age  SibSp  \\\n",
              "0                            Braund, Mr. Owen Harris    male  22.0      1   \n",
              "1  Cumings, Mrs. John Bradley (Florence Briggs Th...  female  38.0      1   \n",
              "2                             Heikkinen, Miss. Laina  female  26.0      0   \n",
              "3       Futrelle, Mrs. Jacques Heath (Lily May Peel)  female  35.0      1   \n",
              "4                           Allen, Mr. William Henry    male  35.0      0   \n",
              "\n",
              "   Parch            Ticket     Fare Cabin Embarked  \n",
              "0      0         A/5 21171   7.2500   NaN        S  \n",
              "1      0          PC 17599  71.2833   C85        C  \n",
              "2      0  STON/O2. 3101282   7.9250   NaN        S  \n",
              "3      0            113803  53.1000  C123        S  \n",
              "4      0            373450   8.0500   NaN        S  "
            ]
          },
          "metadata": {
            "tags": []
          },
          "execution_count": 2
        }
      ]
    },
    {
      "metadata": {
        "id": "1vyB9BxbA3ci",
        "colab_type": "text"
      },
      "cell_type": "markdown",
      "source": [
        "# **Size of the dataset**"
      ]
    },
    {
      "metadata": {
        "id": "Ufws95bvA9p3",
        "colab_type": "code",
        "outputId": "7cf259d5-9550-49ee-a5dd-00f5944c8bd9",
        "colab": {
          "base_uri": "https://localhost:8080/",
          "height": 34
        }
      },
      "cell_type": "code",
      "source": [
        "titanic_df.shape"
      ],
      "execution_count": 0,
      "outputs": [
        {
          "output_type": "execute_result",
          "data": {
            "text/plain": [
              "(891, 12)"
            ]
          },
          "metadata": {
            "tags": []
          },
          "execution_count": 3
        }
      ]
    },
    {
      "metadata": {
        "id": "5zIqLPWfB6Xa",
        "colab_type": "text"
      },
      "cell_type": "markdown",
      "source": [
        "# **Overview or breif idea on dataset**\n",
        "It will print data types and number of null values for each column"
      ]
    },
    {
      "metadata": {
        "id": "04Qmg7tVCDPm",
        "colab_type": "code",
        "outputId": "7fc0beed-8bcd-4095-8769-cdbefe029e26",
        "colab": {
          "base_uri": "https://localhost:8080/",
          "height": 306
        }
      },
      "cell_type": "code",
      "source": [
        "titanic_df.info()"
      ],
      "execution_count": 0,
      "outputs": [
        {
          "output_type": "stream",
          "text": [
            "<class 'pandas.core.frame.DataFrame'>\n",
            "RangeIndex: 891 entries, 0 to 890\n",
            "Data columns (total 12 columns):\n",
            "PassengerId    891 non-null int64\n",
            "Survived       891 non-null int64\n",
            "Pclass         891 non-null int64\n",
            "Name           891 non-null object\n",
            "Sex            891 non-null object\n",
            "Age            714 non-null float64\n",
            "SibSp          891 non-null int64\n",
            "Parch          891 non-null int64\n",
            "Ticket         891 non-null object\n",
            "Fare           891 non-null float64\n",
            "Cabin          204 non-null object\n",
            "Embarked       889 non-null object\n",
            "dtypes: float64(2), int64(5), object(5)\n",
            "memory usage: 83.6+ KB\n"
          ],
          "name": "stdout"
        }
      ]
    },
    {
      "metadata": {
        "id": "EGobIZfuCfzB",
        "colab_type": "text"
      },
      "cell_type": "markdown",
      "source": [
        "Roughly 20% values are missing for Age and very few values are missing for Embarked. But for Cabin, major data (more than 70 %) is missing.\n"
      ]
    },
    {
      "metadata": {
        "id": "nTDNRatNQ4Tx",
        "colab_type": "text"
      },
      "cell_type": "markdown",
      "source": [
        "### **Missing Data Handling**"
      ]
    },
    {
      "metadata": {
        "id": "twM6nPegM7Pf",
        "colab_type": "text"
      },
      "cell_type": "markdown",
      "source": [
        "**1.  Delete Row/Column**"
      ]
    },
    {
      "metadata": {
        "id": "8vzs1m3RP7XZ",
        "colab_type": "text"
      },
      "cell_type": "markdown",
      "source": [
        "As Cabin column has more than 70% missing data,  it can not be used into the Model. We have to remove this column from feature set. "
      ]
    },
    {
      "metadata": {
        "id": "Si5UV0YcNv6z",
        "colab_type": "text"
      },
      "cell_type": "markdown",
      "source": [
        "**2.  Replace with Mean/Median/Mode**"
      ]
    },
    {
      "metadata": {
        "id": "__l9IwFhOj73",
        "colab_type": "text"
      },
      "cell_type": "markdown",
      "source": [
        "Embarked has only 3 missing values. As this is a categorical variable, we can replace missing data with mode value ie we are going to fill missing values with most common embarkment value"
      ]
    },
    {
      "metadata": {
        "id": "u9QzLhHNRec6",
        "colab_type": "code",
        "outputId": "b962ba36-3227-40b1-95b0-a572c2c7fd0c",
        "colab": {
          "base_uri": "https://localhost:8080/",
          "height": 391
        }
      },
      "cell_type": "code",
      "source": [
        "ax = titanic_df['Embarked'].value_counts().plot(kind='bar', alpha=0.7)\n",
        "rects = ax.patches\n",
        "labels = [\"%d\" % i for i in range(len(rects))]\n",
        "for rect, label in zip(rects, labels):\n",
        "    height = rect.get_height()\n",
        "    ax.text(rect.get_x() + rect.get_width() / 2, height + 5, height,\n",
        "            ha='center', va='bottom')\n",
        "plt.title('Embarked Distribution')\n",
        "plt.xlabel('Embarked')\n",
        "plt.ylabel('Frequency')"
      ],
      "execution_count": 0,
      "outputs": [
        {
          "output_type": "execute_result",
          "data": {
            "text/plain": [
              "Text(0, 0.5, 'Frequency')"
            ]
          },
          "metadata": {
            "tags": []
          },
          "execution_count": 5
        },
        {
          "output_type": "display_data",
          "data": {
            "image/png": "[encoded data removed]",
            "text/plain": [
              "<Figure size 576x396 with 1 Axes>"
            ]
          },
          "metadata": {
            "tags": []
          }
        }
      ]
    },
    {
      "metadata": {
        "id": "nOlMiz16VXd5",
        "colab_type": "code",
        "colab": {}
      },
      "cell_type": "code",
      "source": [
        "titanic_df['Embarked'] = titanic_df['Embarked'].fillna('S')"
      ],
      "execution_count": 0,
      "outputs": []
    },
    {
      "metadata": {
        "id": "KPcSEwsiOTD9",
        "colab_type": "text"
      },
      "cell_type": "markdown",
      "source": [
        "**3.  Predict Missing Value**"
      ]
    },
    {
      "metadata": {
        "id": "udGRwJYYXr0c",
        "colab_type": "text"
      },
      "cell_type": "markdown",
      "source": [
        "We can predict the null values using other features which do not have missing values. For eg we can predict missing Age values with help of machine learning algorithm where features could be Pclass, Sex, Fare etc. \n",
        "\n",
        "Before predicting the missing value lets explore the data to check what columns will help to predict Age and relationship between features."
      ]
    },
    {
      "metadata": {
        "id": "vNiAJjy9IwIV",
        "colab_type": "text"
      },
      "cell_type": "markdown",
      "source": [
        "# **Data Preparation**"
      ]
    },
    {
      "metadata": {
        "id": "m2nvj7uxJBI2",
        "colab_type": "text"
      },
      "cell_type": "markdown",
      "source": [
        "### Lets deep dive into the data through Exploratory Data Analysis"
      ]
    },
    {
      "metadata": {
        "id": "AyaVqSSVLs4b",
        "colab_type": "text"
      },
      "cell_type": "markdown",
      "source": [
        "## **Data Visualization**"
      ]
    },
    {
      "metadata": {
        "id": "8CazoafOcCcb",
        "colab_type": "code",
        "outputId": "b828acce-93f8-4ad7-f2dc-e3b97904f347",
        "colab": {
          "base_uri": "https://localhost:8080/",
          "height": 389
        }
      },
      "cell_type": "code",
      "source": [
        "titanic_df['Survived'].value_counts(normalize=True).plot(kind='bar')\n",
        "plt.title('Survival Distribution')\n",
        "plt.xlabel('Survived')\n",
        "plt.ylabel('Normalized Count')"
      ],
      "execution_count": 0,
      "outputs": [
        {
          "output_type": "execute_result",
          "data": {
            "text/plain": [
              "Text(0, 0.5, 'Normalized Count')"
            ]
          },
          "metadata": {
            "tags": []
          },
          "execution_count": 7
        },
        {
          "output_type": "display_data",
          "data": {
            "image/png": "[encoded data removed]",
            "text/plain": [
              "<Figure size 576x396 with 1 Axes>"
            ]
          },
          "metadata": {
            "tags": []
          }
        }
      ]
    },
    {
      "metadata": {
        "id": "Rv_atqSCcirs",
        "colab_type": "text"
      },
      "cell_type": "markdown",
      "source": [
        "It seems most of the people ie more than 60% died as per record."
      ]
    },
    {
      "metadata": {
        "id": "JNxR9J5Mcx16",
        "colab_type": "code",
        "outputId": "0482e5d0-1e3a-4634-bdb8-9d0f3ef504e9",
        "colab": {
          "base_uri": "https://localhost:8080/",
          "height": 389
        }
      },
      "cell_type": "code",
      "source": [
        "titanic_df['Pclass'].value_counts(normalize=True).plot(kind='bar')\n",
        "plt.title('Ticket Class Distribution')\n",
        "plt.xlabel('Pclass')\n",
        "plt.ylabel('Normalized Count')"
      ],
      "execution_count": 0,
      "outputs": [
        {
          "output_type": "execute_result",
          "data": {
            "text/plain": [
              "Text(0, 0.5, 'Normalized Count')"
            ]
          },
          "metadata": {
            "tags": []
          },
          "execution_count": 8
        },
        {
          "output_type": "display_data",
          "data": {
            "image/png": "[encoded data removed]",
            "text/plain": [
              "<Figure size 576x396 with 1 Axes>"
            ]
          },
          "metadata": {
            "tags": []
          }
        }
      ]
    },
    {
      "metadata": {
        "id": "fopkXbNDezOS",
        "colab_type": "text"
      },
      "cell_type": "markdown",
      "source": [
        "From this plot, we can see more than 50% passengers booked class 3 ticket."
      ]
    },
    {
      "metadata": {
        "id": "S-ZirMoOeoy-",
        "colab_type": "code",
        "outputId": "5b541bcb-2cb0-4abb-a271-4df4004d2488",
        "colab": {
          "base_uri": "https://localhost:8080/",
          "height": 413
        }
      },
      "cell_type": "code",
      "source": [
        "titanic_df['Sex'].value_counts(normalize=True).plot(kind='bar')\n",
        "plt.title('Gender Distribution')\n",
        "plt.xlabel('Sex')\n",
        "plt.ylabel('Normalized Count')"
      ],
      "execution_count": 0,
      "outputs": [
        {
          "output_type": "execute_result",
          "data": {
            "text/plain": [
              "Text(0, 0.5, 'Normalized Count')"
            ]
          },
          "metadata": {
            "tags": []
          },
          "execution_count": 9
        },
        {
          "output_type": "display_data",
          "data": {
            "image/png": "[encoded data removed]",
            "text/plain": [
              "<Figure size 576x396 with 1 Axes>"
            ]
          },
          "metadata": {
            "tags": []
          }
        }
      ]
    },
    {
      "metadata": {
        "id": "2opifyCzc9pD",
        "colab_type": "text"
      },
      "cell_type": "markdown",
      "source": [
        "Count of male passengers is almost twice of female passengers."
      ]
    },
    {
      "metadata": {
        "id": "8lhJi7TLLziR",
        "colab_type": "code",
        "outputId": "85fdcc4c-5d72-4272-87be-af4837cedea3",
        "colab": {
          "base_uri": "https://localhost:8080/",
          "height": 389
        }
      },
      "cell_type": "code",
      "source": [
        "titanic_df['SibSp'].value_counts(normalize=True).plot(kind='bar', alpha=0.7)\n",
        "plt.title('# of Siblings/Spouses Distribution')\n",
        "plt.xlabel('Sibling/Spouse Count')\n",
        "plt.ylabel('Normalized Count')"
      ],
      "execution_count": 0,
      "outputs": [
        {
          "output_type": "execute_result",
          "data": {
            "text/plain": [
              "Text(0, 0.5, 'Normalized Count')"
            ]
          },
          "metadata": {
            "tags": []
          },
          "execution_count": 10
        },
        {
          "output_type": "display_data",
          "data": {
            "image/png": "[encoded data removed]",
            "text/plain": [
              "<Figure size 576x396 with 1 Axes>"
            ]
          },
          "metadata": {
            "tags": []
          }
        }
      ]
    },
    {
      "metadata": {
        "id": "PZ7Q5DXvg0JJ",
        "colab_type": "text"
      },
      "cell_type": "markdown",
      "source": [
        "Most of the passengers travelled alone, that is why most frequency came for Siblings/Spouse count 0."
      ]
    },
    {
      "metadata": {
        "id": "_hMbq-G0f2ub",
        "colab_type": "code",
        "outputId": "d64d72a2-7173-4a99-f75e-8b0c6ce6119b",
        "colab": {
          "base_uri": "https://localhost:8080/",
          "height": 389
        }
      },
      "cell_type": "code",
      "source": [
        "titanic_df['Parch'].value_counts(normalize=True).plot(kind='bar', alpha=0.7)\n",
        "plt.title('# of Parents/Children Distribution')\n",
        "plt.xlabel('Parent Child Count')\n",
        "plt.ylabel('Normalized Count')"
      ],
      "execution_count": 0,
      "outputs": [
        {
          "output_type": "execute_result",
          "data": {
            "text/plain": [
              "Text(0, 0.5, 'Normalized Count')"
            ]
          },
          "metadata": {
            "tags": []
          },
          "execution_count": 11
        },
        {
          "output_type": "display_data",
          "data": {
            "image/png": "[encoded data removed]",
            "text/plain": [
              "<Figure size 576x396 with 1 Axes>"
            ]
          },
          "metadata": {
            "tags": []
          }
        }
      ]
    },
    {
      "metadata": {
        "id": "I7pBBfJNhR7A",
        "colab_type": "text"
      },
      "cell_type": "markdown",
      "source": [
        "Most of the people neither travelled with parents or children."
      ]
    },
    {
      "metadata": {
        "id": "ZsTVurOwiX2o",
        "colab_type": "code",
        "outputId": "72ab5911-51a1-4759-c661-1a189291d9f7",
        "colab": {
          "base_uri": "https://localhost:8080/",
          "height": 393
        }
      },
      "cell_type": "code",
      "source": [
        "titanic_df['Age'].plot(kind='hist')\n",
        "plt.title('Age Distribution')\n",
        "plt.xlabel('Age Range')\n",
        "plt.ylabel('Frequency')"
      ],
      "execution_count": 0,
      "outputs": [
        {
          "output_type": "execute_result",
          "data": {
            "text/plain": [
              "Text(0, 0.5, 'Frequency')"
            ]
          },
          "metadata": {
            "tags": []
          },
          "execution_count": 12
        },
        {
          "output_type": "display_data",
          "data": {
            "image/png": "[encoded data removed]",
            "text/plain": [
              "<Figure size 576x396 with 1 Axes>"
            ]
          },
          "metadata": {
            "tags": []
          }
        }
      ]
    },
    {
      "metadata": {
        "id": "UltX8mjyi2Bh",
        "colab_type": "text"
      },
      "cell_type": "markdown",
      "source": [
        "As Age is continuous variable, we have used Histogram for this.\n",
        "\n",
        "It seems, most of the people are from 18-30 years range. Before we predict missing age values, we will look into some more graphs."
      ]
    },
    {
      "metadata": {
        "id": "Tf2mFGPUip8-",
        "colab_type": "code",
        "outputId": "f3e83fc0-7795-47be-deaa-9367c21c0dc9",
        "colab": {
          "base_uri": "https://localhost:8080/",
          "height": 393
        }
      },
      "cell_type": "code",
      "source": [
        "titanic_df['Fare'].plot(kind='hist')\n",
        "plt.title('Fare Distribution')\n",
        "plt.xlabel('Fare Range')\n",
        "plt.ylabel('Frequency')"
      ],
      "execution_count": 0,
      "outputs": [
        {
          "output_type": "execute_result",
          "data": {
            "text/plain": [
              "Text(0, 0.5, 'Frequency')"
            ]
          },
          "metadata": {
            "tags": []
          },
          "execution_count": 13
        },
        {
          "output_type": "display_data",
          "data": {
            "image/png": "[encoded data removed]",
            "text/plain": [
              "<Figure size 576x396 with 1 Axes>"
            ]
          },
          "metadata": {
            "tags": []
          }
        }
      ]
    },
    {
      "metadata": {
        "id": "iHY89VV9kTzq",
        "colab_type": "text"
      },
      "cell_type": "markdown",
      "source": [
        "We can see most of the ticket price was within range of 50."
      ]
    },
    {
      "metadata": {
        "id": "j0cyRCXxhrBu",
        "colab_type": "text"
      },
      "cell_type": "markdown",
      "source": [
        "We have explored how the values for different features distributed. \n",
        "Lets see how Age variable depends on other features."
      ]
    },
    {
      "metadata": {
        "id": "noCx-AnulVBn",
        "colab_type": "code",
        "outputId": "698bea9e-4220-4248-8333-70a79bca891f",
        "colab": {
          "base_uri": "https://localhost:8080/",
          "height": 406
        }
      },
      "cell_type": "code",
      "source": [
        "fig = plt.figure(figsize=(18,6))\n",
        "plt.subplots_adjust(hspace=.5)\n",
        "\n",
        "plt.subplot2grid((3,3), (0,0))\n",
        "titanic_df['Age'][(titanic_df['Sex']=='male')].plot(kind='hist')\n",
        "plt.title('Age vs Male')\n",
        "plt.subplot2grid((3,3), (0,1))\n",
        "titanic_df['Age'][(titanic_df['Sex']=='female')].plot(kind='hist')\n",
        "plt.title('Age vs Female')\n",
        "plt.subplot2grid((3,3), (1,0))\n",
        "titanic_df['Age'][(titanic_df['Sex']=='male') & (titanic_df['Pclass']==1)].plot(kind='hist')\n",
        "plt.title('Age vs Male vs Class1')\n",
        "plt.subplot2grid((3,3), (1,1))\n",
        "titanic_df['Age'][(titanic_df['Sex']=='male') & (titanic_df['Pclass']==2)].plot(kind='hist')\n",
        "plt.title('Age vs Male vs Class2')\n",
        "plt.subplot2grid((3,3), (1,2))\n",
        "titanic_df['Age'][(titanic_df['Sex']=='male') & (titanic_df['Pclass']==3)].plot(kind='hist')\n",
        "plt.title('Age vs Male vs Class3')\n",
        "plt.subplot2grid((3,3), (2,0))\n",
        "titanic_df['Age'][(titanic_df['Sex']=='female') & (titanic_df['Pclass']==1)].plot(kind='hist')\n",
        "plt.title('Age vs Female vs Class1')\n",
        "plt.subplot2grid((3,3), (2,1))\n",
        "titanic_df['Age'][(titanic_df['Sex']=='female') & (titanic_df['Pclass']==2)].plot(kind='hist')\n",
        "plt.title('Age vs Female vs Class2')\n",
        "plt.subplot2grid((3,3), (2,2))\n",
        "titanic_df['Age'][(titanic_df['Sex']=='female') & (titanic_df['Pclass']==3)].plot(kind='hist')\n",
        "plt.title('Age vs Female vs Class3')"
      ],
      "execution_count": 0,
      "outputs": [
        {
          "output_type": "execute_result",
          "data": {
            "text/plain": [
              "Text(0.5, 1.0, 'Age vs Female vs Class3')"
            ]
          },
          "metadata": {
            "tags": []
          },
          "execution_count": 14
        },
        {
          "output_type": "display_data",
          "data": {
            "image/png": "[encoded data removed]",
            "text/plain": [
              "<Figure size 1296x432 with 8 Axes>"
            ]
          },
          "metadata": {
            "tags": []
          }
        }
      ]
    },
    {
      "metadata": {
        "id": "WsVDca5BIYwk",
        "colab_type": "text"
      },
      "cell_type": "markdown",
      "source": [
        "From the first row it looks like Age range varies differently based on gender. And in next two rows indicate Age range distribution differs not only based on gender but also with ticket class "
      ]
    },
    {
      "metadata": {
        "id": "bL-FdOItJH9M",
        "colab_type": "text"
      },
      "cell_type": "markdown",
      "source": [
        "We are going to calculate the median age of passengers who are grouped by ticket class and sex. And assign those median to null values present in those corresponding groups."
      ]
    },
    {
      "metadata": {
        "id": "8-LWpQIlpLBH",
        "colab_type": "code",
        "colab": {}
      },
      "cell_type": "code",
      "source": [
        "titanic_df[\"Age\"] = titanic_df.groupby(['Sex','Pclass'])['Age'].transform(lambda x: x.fillna(x.median()))"
      ],
      "execution_count": 0,
      "outputs": []
    },
    {
      "metadata": {
        "id": "dAoTKAoZLPL0",
        "colab_type": "text"
      },
      "cell_type": "markdown",
      "source": [
        "Lets try some more visuals to check how these features are related to target variable ie Survived or not."
      ]
    },
    {
      "metadata": {
        "id": "xxQIlpcSseFt",
        "colab_type": "code",
        "outputId": "083a1feb-e822-4f27-a1ea-ce980456e98f",
        "colab": {
          "base_uri": "https://localhost:8080/",
          "height": 413
        }
      },
      "cell_type": "code",
      "source": [
        "titanic_df['Sex'][titanic_df['Survived']==1].value_counts(normalize=True, ascending=True).plot(kind='bar')\n",
        "plt.title('Survival against Gender')\n",
        "plt.xlabel('Sex')\n",
        "plt.ylabel('Survived Frequency (Normalized)')"
      ],
      "execution_count": 0,
      "outputs": [
        {
          "output_type": "execute_result",
          "data": {
            "text/plain": [
              "Text(0, 0.5, 'Survived Frequency (Normalized)')"
            ]
          },
          "metadata": {
            "tags": []
          },
          "execution_count": 16
        },
        {
          "output_type": "display_data",
          "data": {
            "image/png": "[encoded data removed]",
            "text/plain": [
              "<Figure size 576x396 with 1 Axes>"
            ]
          },
          "metadata": {
            "tags": []
          }
        }
      ]
    },
    {
      "metadata": {
        "id": "wYNRPt2_lmWb",
        "colab_type": "text"
      },
      "cell_type": "markdown",
      "source": [
        "It is clear that survival rate for men is much lower than womens'."
      ]
    },
    {
      "metadata": {
        "id": "j4tDp9rAMh_I",
        "colab_type": "code",
        "outputId": "007fc938-4458-4e32-93c6-e2f2c2f41a37",
        "colab": {
          "base_uri": "https://localhost:8080/",
          "height": 389
        }
      },
      "cell_type": "code",
      "source": [
        "titanic_df.groupby(['Survived', 'Pclass']).size().unstack().plot(kind='bar', stacked=True)\n",
        "plt.title('Ticket Class vs Survival')"
      ],
      "execution_count": 0,
      "outputs": [
        {
          "output_type": "execute_result",
          "data": {
            "text/plain": [
              "Text(0.5, 1.0, 'Ticket Class vs Survival')"
            ]
          },
          "metadata": {
            "tags": []
          },
          "execution_count": 17
        },
        {
          "output_type": "display_data",
          "data": {
            "image/png": "[encoded data removed]",
            "text/plain": [
              "<Figure size 576x396 with 1 Axes>"
            ]
          },
          "metadata": {
            "tags": []
          }
        }
      ]
    },
    {
      "metadata": {
        "id": "4d6XgZnNNKP0",
        "colab_type": "text"
      },
      "cell_type": "markdown",
      "source": [
        "This plot shows that the people with first class ticket had more surviving count than dying while scenario was opposite for passengers of class 3."
      ]
    },
    {
      "metadata": {
        "id": "1lA97ojlwwnf",
        "colab_type": "code",
        "outputId": "d5ffdcd1-ae82-4b17-bfbe-ff5729d0c081",
        "colab": {
          "base_uri": "https://localhost:8080/",
          "height": 361
        }
      },
      "cell_type": "code",
      "source": [
        "fig = plt.figure(figsize=(12,5))\n",
        "plt.subplots_adjust(hspace=.5)\n",
        "\n",
        "ax = plt.subplot2grid((1,2), (0,0))\n",
        "titanic_df.groupby(['Parch', 'Survived']).size().unstack().plot(kind='bar', stacked=True, ax=ax)\n",
        "plt.title('Parent/Child vs Survived')\n",
        "plt.ylabel('Count')\n",
        "\n",
        "ax = plt.subplot2grid((1,2), (0,1))\n",
        "titanic_df.groupby(['SibSp', 'Survived']).size().unstack().plot(kind='bar', stacked=True, ax=ax)\n",
        "plt.title('Sibling/Spouse vs Survived')\n",
        "plt.ylabel('Count')"
      ],
      "execution_count": 0,
      "outputs": [
        {
          "output_type": "execute_result",
          "data": {
            "text/plain": [
              "Text(0, 0.5, 'Count')"
            ]
          },
          "metadata": {
            "tags": []
          },
          "execution_count": 18
        },
        {
          "output_type": "display_data",
          "data": {
            "image/png": "[encoded data removed]",
            "text/plain": [
              "<Figure size 864x360 with 2 Axes>"
            ]
          },
          "metadata": {
            "tags": []
          }
        }
      ]
    },
    {
      "metadata": {
        "id": "dz237Mn_xyWD",
        "colab_type": "text"
      },
      "cell_type": "markdown",
      "source": [
        "These two bar chart indicate if passenger accompanied by either soupse/siblings or parents/child, chances of survival were higher than who board the ship alone."
      ]
    },
    {
      "metadata": {
        "id": "l80HRYJvu74b",
        "colab_type": "text"
      },
      "cell_type": "markdown",
      "source": [
        "# **Feature Engineering**"
      ]
    },
    {
      "metadata": {
        "id": "zS32QSwNvZwP",
        "colab_type": "text"
      },
      "cell_type": "markdown",
      "source": [
        "Before we train our model with this data, lets do some Feature Engineering.\n",
        "\n",
        "Feature Engineering is a process of feature extraction from raw dataset using domain knowledge."
      ]
    },
    {
      "metadata": {
        "id": "Oc3gPss3PZv7",
        "colab_type": "text"
      },
      "cell_type": "markdown",
      "source": [
        "In previous graph we have seen, both Sibsp and Parch are having similar influence on Survival. Lets calculate if passenger travelled alone or with family. Instead of 2 separate features, lets combine SibSp and Parch and create a new feature named FamilySize."
      ]
    },
    {
      "metadata": {
        "id": "Bg0Zy7pVOAB_",
        "colab_type": "code",
        "colab": {}
      },
      "cell_type": "code",
      "source": [
        "titanic_df['FamilySize'] = titanic_df['SibSp'] + titanic_df['Parch'] + 1"
      ],
      "execution_count": 0,
      "outputs": []
    },
    {
      "metadata": {
        "id": "CiKbTMJPOxRM",
        "colab_type": "code",
        "outputId": "aeb40093-dc8d-4541-b059-6f718c93842a",
        "colab": {
          "base_uri": "https://localhost:8080/",
          "height": 394
        }
      },
      "cell_type": "code",
      "source": [
        "titanic_df.groupby(['FamilySize', 'Survived']).size().unstack().plot(kind='bar', stacked=True)\n",
        "plt.title('Family vs Survival')"
      ],
      "execution_count": 0,
      "outputs": [
        {
          "output_type": "execute_result",
          "data": {
            "text/plain": [
              "Text(0.5, 1.0, 'Family vs Survival')"
            ]
          },
          "metadata": {
            "tags": []
          },
          "execution_count": 20
        },
        {
          "output_type": "display_data",
          "data": {
            "image/png": "[encoded data removed]",
            "text/plain": [
              "<Figure size 576x396 with 1 Axes>"
            ]
          },
          "metadata": {
            "tags": []
          }
        }
      ]
    },
    {
      "metadata": {
        "id": "Uc-aBX2eP1JF",
        "colab_type": "text"
      },
      "cell_type": "markdown",
      "source": [
        "It says if passenger travelled with family, chances of survival were higher than people travelled alone."
      ]
    },
    {
      "metadata": {
        "id": "CvyvOVWzScuQ",
        "colab_type": "text"
      },
      "cell_type": "markdown",
      "source": [
        "We have already filled null value with corresponding median value and created new feature named FamilySize. Lets see how this modified dataset looks"
      ]
    },
    {
      "metadata": {
        "id": "NztgkCEhO6c8",
        "colab_type": "code",
        "outputId": "970d17f6-c56d-440f-880f-359ed005c955",
        "colab": {
          "base_uri": "https://localhost:8080/",
          "height": 323
        }
      },
      "cell_type": "code",
      "source": [
        "titanic_df.info()"
      ],
      "execution_count": 0,
      "outputs": [
        {
          "output_type": "stream",
          "text": [
            "<class 'pandas.core.frame.DataFrame'>\n",
            "RangeIndex: 891 entries, 0 to 890\n",
            "Data columns (total 13 columns):\n",
            "PassengerId    891 non-null int64\n",
            "Survived       891 non-null int64\n",
            "Pclass         891 non-null int64\n",
            "Name           891 non-null object\n",
            "Sex            891 non-null object\n",
            "Age            891 non-null float64\n",
            "SibSp          891 non-null int64\n",
            "Parch          891 non-null int64\n",
            "Ticket         891 non-null object\n",
            "Fare           891 non-null float64\n",
            "Cabin          204 non-null object\n",
            "Embarked       891 non-null object\n",
            "FamilySize     891 non-null int64\n",
            "dtypes: float64(2), int64(6), object(5)\n",
            "memory usage: 90.6+ KB\n"
          ],
          "name": "stdout"
        }
      ]
    },
    {
      "metadata": {
        "id": "09JlWr34S3ZO",
        "colab_type": "text"
      },
      "cell_type": "markdown",
      "source": [
        "Except Cabin, none of the feature is having Null value."
      ]
    },
    {
      "metadata": {
        "id": "XVlvR2C3TG7Z",
        "colab_type": "text"
      },
      "cell_type": "markdown",
      "source": [
        "Lets load the test data and check if any missing value"
      ]
    },
    {
      "metadata": {
        "id": "4u_2lbDG1NEj",
        "colab_type": "code",
        "outputId": "e0e41597-ac15-4258-fbdf-2685f22ebb98",
        "colab": {
          "base_uri": "https://localhost:8080/",
          "height": 289
        }
      },
      "cell_type": "code",
      "source": [
        "test = pd.read_csv('test.csv')\n",
        "test.info()"
      ],
      "execution_count": 0,
      "outputs": [
        {
          "output_type": "stream",
          "text": [
            "<class 'pandas.core.frame.DataFrame'>\n",
            "RangeIndex: 418 entries, 0 to 417\n",
            "Data columns (total 11 columns):\n",
            "PassengerId    418 non-null int64\n",
            "Pclass         418 non-null int64\n",
            "Name           418 non-null object\n",
            "Sex            418 non-null object\n",
            "Age            332 non-null float64\n",
            "SibSp          418 non-null int64\n",
            "Parch          418 non-null int64\n",
            "Ticket         418 non-null object\n",
            "Fare           417 non-null float64\n",
            "Cabin          91 non-null object\n",
            "Embarked       418 non-null object\n",
            "dtypes: float64(2), int64(4), object(5)\n",
            "memory usage: 36.0+ KB\n"
          ],
          "name": "stdout"
        }
      ]
    },
    {
      "metadata": {
        "id": "17hSEIa4TUy-",
        "colab_type": "text"
      },
      "cell_type": "markdown",
      "source": [
        "Age, Fare and Cabin have missing value. Lets ignore Cabin as we are not going to use that feature. We have to fill the missing value with median of existing values.\n",
        "\n",
        "And we have to add 'FamilySize', the new feature introduced as part of Feature Engineering"
      ]
    },
    {
      "metadata": {
        "id": "vj5Gc_Md2wXM",
        "colab_type": "code",
        "colab": {}
      },
      "cell_type": "code",
      "source": [
        "test[\"Age\"] = test.groupby(['Sex','Pclass'])['Age'].transform(lambda x: x.fillna(x.median()))\n",
        "test[\"Fare\"] = test[\"Fare\"].fillna(test[\"Fare\"].dropna().median())   \n",
        "test['FamilySize'] = test['SibSp'] + test['Parch'] + 1"
      ],
      "execution_count": 0,
      "outputs": []
    },
    {
      "metadata": {
        "id": "KlPyNt-IWG-u",
        "colab_type": "text"
      },
      "cell_type": "markdown",
      "source": [
        "Lets check how test data looks like."
      ]
    },
    {
      "metadata": {
        "id": "3iwIxIyN3KNd",
        "colab_type": "code",
        "outputId": "d122eaa7-bced-49cf-99ef-92bfa1782cd5",
        "colab": {
          "base_uri": "https://localhost:8080/",
          "height": 306
        }
      },
      "cell_type": "code",
      "source": [
        "test.info()"
      ],
      "execution_count": 0,
      "outputs": [
        {
          "output_type": "stream",
          "text": [
            "<class 'pandas.core.frame.DataFrame'>\n",
            "RangeIndex: 418 entries, 0 to 417\n",
            "Data columns (total 12 columns):\n",
            "PassengerId    418 non-null int64\n",
            "Pclass         418 non-null int64\n",
            "Name           418 non-null object\n",
            "Sex            418 non-null object\n",
            "Age            418 non-null float64\n",
            "SibSp          418 non-null int64\n",
            "Parch          418 non-null int64\n",
            "Ticket         418 non-null object\n",
            "Fare           418 non-null float64\n",
            "Cabin          91 non-null object\n",
            "Embarked       418 non-null object\n",
            "FamilySize     418 non-null int64\n",
            "dtypes: float64(2), int64(5), object(5)\n",
            "memory usage: 39.3+ KB\n"
          ],
          "name": "stdout"
        }
      ]
    },
    {
      "metadata": {
        "id": "-DZBY1JqWNhb",
        "colab_type": "text"
      },
      "cell_type": "markdown",
      "source": [
        "As PassengerId, Name, Ticket will not help to predict whether Survived or not, we are going to ignore those features. We have already ignored Cabin. And as we have created new feature out of SibSp and ParCh, we are not going include those features as well.\n",
        "\n",
        "We have to apply one hot encoding for categorical variables like Sex, Embarked and Pclass. Lets create X_train and X_test."
      ]
    },
    {
      "metadata": {
        "id": "dTzXwS_T3MIM",
        "colab_type": "code",
        "colab": {}
      },
      "cell_type": "code",
      "source": [
        "X_train = titanic_df[['Pclass','Sex', 'Age', 'Fare', 'Embarked', 'FamilySize']]\n",
        "X_test = test[['Pclass','Sex', 'Age', 'Fare', 'Embarked', 'FamilySize']]\n",
        "labels_to_encode = ['Pclass', 'Sex', 'Embarked']\n",
        "for label in labels_to_encode:\n",
        "    X_train = X_train.join(pd.get_dummies(X_train[label], prefix = label))\n",
        "    X_train.drop(label, axis=1, inplace=True)\n",
        "for label in labels_to_encode:\n",
        "    X_test = X_test.join(pd.get_dummies(X_test[label], prefix = label))\n",
        "    X_test.drop(label, axis=1, inplace=True)\n",
        "y = titanic_df['Survived'].values"
      ],
      "execution_count": 0,
      "outputs": []
    },
    {
      "metadata": {
        "id": "pYQdqZrNXYke",
        "colab_type": "text"
      },
      "cell_type": "markdown",
      "source": [
        "Lets see how X_train looks like"
      ]
    },
    {
      "metadata": {
        "id": "6DzhD6TPXcfc",
        "colab_type": "code",
        "outputId": "9b18340e-c3a8-4074-d7f3-6141e0a0eb77",
        "colab": {
          "base_uri": "https://localhost:8080/",
          "height": 80
        }
      },
      "cell_type": "code",
      "source": [
        "X_train.head(1)"
      ],
      "execution_count": 0,
      "outputs": [
        {
          "output_type": "execute_result",
          "data": {
            "text/html": [
              "<div>\n",
              "<style scoped>\n",
              "    .dataframe tbody tr th:only-of-type {\n",
              "        vertical-align: middle;\n",
              "    }\n",
              "\n",
              "    .dataframe tbody tr th {\n",
              "        vertical-align: top;\n",
              "    }\n",
              "\n",
              "    .dataframe thead th {\n",
              "        text-align: right;\n",
              "    }\n",
              "</style>\n",
              "<table border=\"1\" class=\"dataframe\">\n",
              "  <thead>\n",
              "    <tr style=\"text-align: right;\">\n",
              "      <th></th>\n",
              "      <th>Age</th>\n",
              "      <th>Fare</th>\n",
              "      <th>FamilySize</th>\n",
              "      <th>Pclass_1</th>\n",
              "      <th>Pclass_2</th>\n",
              "      <th>Pclass_3</th>\n",
              "      <th>Sex_female</th>\n",
              "      <th>Sex_male</th>\n",
              "      <th>Embarked_C</th>\n",
              "      <th>Embarked_Q</th>\n",
              "      <th>Embarked_S</th>\n",
              "    </tr>\n",
              "  </thead>\n",
              "  <tbody>\n",
              "    <tr>\n",
              "      <th>0</th>\n",
              "      <td>22.0</td>\n",
              "      <td>7.25</td>\n",
              "      <td>2</td>\n",
              "      <td>0</td>\n",
              "      <td>0</td>\n",
              "      <td>1</td>\n",
              "      <td>0</td>\n",
              "      <td>1</td>\n",
              "      <td>0</td>\n",
              "      <td>0</td>\n",
              "      <td>1</td>\n",
              "    </tr>\n",
              "  </tbody>\n",
              "</table>\n",
              "</div>"
            ],
            "text/plain": [
              "    Age  Fare  FamilySize  Pclass_1  Pclass_2  Pclass_3  Sex_female  Sex_male  \\\n",
              "0  22.0  7.25           2         0         0         1           0         1   \n",
              "\n",
              "   Embarked_C  Embarked_Q  Embarked_S  \n",
              "0           0           0           1  "
            ]
          },
          "metadata": {
            "tags": []
          },
          "execution_count": 26
        }
      ]
    },
    {
      "metadata": {
        "id": "AdjmyNr201ae",
        "colab_type": "text"
      },
      "cell_type": "markdown",
      "source": [
        "# **Train Model**"
      ]
    },
    {
      "metadata": {
        "id": "rahnSanMXqin",
        "colab_type": "text"
      },
      "cell_type": "markdown",
      "source": [
        "Its time to create model. Lets start with Logistic Regression."
      ]
    },
    {
      "metadata": {
        "id": "MktzJm0i6q2L",
        "colab_type": "code",
        "colab": {}
      },
      "cell_type": "code",
      "source": [
        "lr_model =  LogisticRegression(solver='liblinear')"
      ],
      "execution_count": 0,
      "outputs": []
    },
    {
      "metadata": {
        "id": "dXrqXjm9YdWG",
        "colab_type": "text"
      },
      "cell_type": "markdown",
      "source": [
        "To evaluate our model we are using cross_val_score with k-fold where k = 5.\n",
        "\n",
        "Using this model we will get the predicted Survival on test data."
      ]
    },
    {
      "metadata": {
        "id": "zo4Y0M43NpGI",
        "colab_type": "code",
        "outputId": "8fa12129-f3e9-4688-cdc9-84cfcdef4c68",
        "colab": {
          "base_uri": "https://localhost:8080/",
          "height": 34
        }
      },
      "cell_type": "code",
      "source": [
        "scores = cross_val_score(lr_model, X_train, y, cv=5)\n",
        "print(round(np.mean(scores*100)))\n",
        "lr_model.fit(X_train,y)\n",
        "predictions_lr = lr_model.predict(X_test)\n",
        "submission_lr = pd.DataFrame({\n",
        "        \"PassengerId\": test[\"PassengerId\"],\n",
        "        \"Survived\": predictions_lr\n",
        "})\n",
        "submission_lr.to_csv('titanic_lr.csv', index=False)"
      ],
      "execution_count": 0,
      "outputs": [
        {
          "output_type": "stream",
          "text": [
            "80.0\n"
          ],
          "name": "stdout"
        }
      ]
    },
    {
      "metadata": {
        "id": "VpO75cilWRAD",
        "colab_type": "text"
      },
      "cell_type": "markdown",
      "source": [
        "Upon submission this csv, score was 0.77033.\n",
        "\n",
        "Lets try some other algorithm"
      ]
    },
    {
      "metadata": {
        "id": "UKSSxobeZFlZ",
        "colab_type": "text"
      },
      "cell_type": "markdown",
      "source": [
        "Same is done using Random Forest Classifier"
      ]
    },
    {
      "metadata": {
        "id": "fRI5zBZkOKdm",
        "colab_type": "code",
        "outputId": "13c3d876-9f3b-4f02-b145-3ed99a0042b7",
        "colab": {
          "base_uri": "https://localhost:8080/",
          "height": 34
        }
      },
      "cell_type": "code",
      "source": [
        "rfclr = RandomForestClassifier(n_estimators=100, max_depth = 7)\n",
        "scores = cross_val_score(rfclr, X_train, y, cv=5)\n",
        "print(round(np.mean(scores*100)))\n",
        "rfclr.fit(X_train, y)\n",
        "predictions_rf = rfclr.predict(X_test)\n",
        "submission_rf = pd.DataFrame({\n",
        "        \"PassengerId\": test[\"PassengerId\"],\n",
        "        \"Survived\": predictions_rf\n",
        "})\n",
        "submission_rf.to_csv('titanic_dt.csv', index=False)"
      ],
      "execution_count": 0,
      "outputs": [
        {
          "output_type": "stream",
          "text": [
            "82.0\n"
          ],
          "name": "stdout"
        }
      ]
    },
    {
      "metadata": {
        "id": "OuPkOE_GYTOG",
        "colab_type": "text"
      },
      "cell_type": "markdown",
      "source": [
        "And this scored 0.79425"
      ]
    }
  ]
}