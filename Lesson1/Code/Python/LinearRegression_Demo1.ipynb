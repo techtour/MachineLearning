{
 "cells": [
  {
   "cell_type": "code",
   "execution_count": 0,
   "metadata": {
    "colab": {},
    "colab_type": "code",
    "collapsed": true,
    "id": "0lakk1KRym4E"
   },
   "outputs": [],
   "source": [
    "import pandas as pd\n",
    "from sklearn.model_selection import train_test_split\n",
    "from sklearn.linear_model import LinearRegression"
   ]
  },
  {
   "cell_type": "code",
   "execution_count": 0,
   "metadata": {
    "colab": {},
    "colab_type": "code",
    "collapsed": true,
    "id": "lFmdHJbVy54N"
   },
   "outputs": [],
   "source": [
    "fishDf = pd.read_csv('fish_data.csv', usecols=['Age', 'Temp_water', 'Length'])"
   ]
  },
  {
   "cell_type": "code",
   "execution_count": 3,
   "metadata": {
    "colab": {
     "base_uri": "https://localhost:8080/",
     "height": 34
    },
    "colab_type": "code",
    "collapsed": false,
    "executionInfo": {
     "elapsed": 1552,
     "status": "ok",
     "timestamp": 1553451110573,
     "user": {
      "displayName": "Trisha Mazumder",
      "photoUrl": "https://lh6.googleusercontent.com/-vGm2agvmKUk/AAAAAAAAAAI/AAAAAAAAB98/NfGgBYSGMss/s64/photo.jpg",
      "userId": "04782947816564362860"
     },
     "user_tz": -330
    },
    "id": "kAS-SStPz1HX",
    "outputId": "cc7c9c6c-cd6a-4b44-d6e9-a8e716946613"
   },
   "outputs": [
    {
     "data": {
      "text/plain": [
       "(44, 3)"
      ]
     },
     "execution_count": 3,
     "metadata": {
      "tags": []
     },
     "output_type": "execute_result"
    }
   ],
   "source": [
    "fishDf.shape"
   ]
  },
  {
   "cell_type": "code",
   "execution_count": 4,
   "metadata": {
    "colab": {
     "base_uri": "https://localhost:8080/",
     "height": 204
    },
    "colab_type": "code",
    "collapsed": false,
    "executionInfo": {
     "elapsed": 1523,
     "status": "ok",
     "timestamp": 1553451110576,
     "user": {
      "displayName": "Trisha Mazumder",
      "photoUrl": "https://lh6.googleusercontent.com/-vGm2agvmKUk/AAAAAAAAAAI/AAAAAAAAB98/NfGgBYSGMss/s64/photo.jpg",
      "userId": "04782947816564362860"
     },
     "user_tz": -330
    },
    "id": "t2B4K-M60cDg",
    "outputId": "857c302f-1d0e-4e39-f25c-f1cbd9e2eb0d"
   },
   "outputs": [
    {
     "data": {
      "text/html": [
       "<div>\n",
       "<style scoped>\n",
       "    .dataframe tbody tr th:only-of-type {\n",
       "        vertical-align: middle;\n",
       "    }\n",
       "\n",
       "    .dataframe tbody tr th {\n",
       "        vertical-align: top;\n",
       "    }\n",
       "\n",
       "    .dataframe thead th {\n",
       "        text-align: right;\n",
       "    }\n",
       "</style>\n",
       "<table border=\"1\" class=\"dataframe\">\n",
       "  <thead>\n",
       "    <tr style=\"text-align: right;\">\n",
       "      <th></th>\n",
       "      <th>Age</th>\n",
       "      <th>Temp_water</th>\n",
       "      <th>Length</th>\n",
       "    </tr>\n",
       "  </thead>\n",
       "  <tbody>\n",
       "    <tr>\n",
       "      <th>0</th>\n",
       "      <td>14</td>\n",
       "      <td>25</td>\n",
       "      <td>620</td>\n",
       "    </tr>\n",
       "    <tr>\n",
       "      <th>1</th>\n",
       "      <td>28</td>\n",
       "      <td>25</td>\n",
       "      <td>1315</td>\n",
       "    </tr>\n",
       "    <tr>\n",
       "      <th>2</th>\n",
       "      <td>41</td>\n",
       "      <td>25</td>\n",
       "      <td>2120</td>\n",
       "    </tr>\n",
       "    <tr>\n",
       "      <th>3</th>\n",
       "      <td>55</td>\n",
       "      <td>25</td>\n",
       "      <td>2600</td>\n",
       "    </tr>\n",
       "    <tr>\n",
       "      <th>4</th>\n",
       "      <td>69</td>\n",
       "      <td>25</td>\n",
       "      <td>3110</td>\n",
       "    </tr>\n",
       "  </tbody>\n",
       "</table>\n",
       "</div>"
      ],
      "text/plain": [
       "   Age  Temp_water  Length\n",
       "0   14          25     620\n",
       "1   28          25    1315\n",
       "2   41          25    2120\n",
       "3   55          25    2600\n",
       "4   69          25    3110"
      ]
     },
     "execution_count": 4,
     "metadata": {
      "tags": []
     },
     "output_type": "execute_result"
    }
   ],
   "source": [
    "fishDf.head()"
   ]
  },
  {
   "cell_type": "code",
   "execution_count": 5,
   "metadata": {
    "colab": {
     "base_uri": "https://localhost:8080/",
     "height": 142
    },
    "colab_type": "code",
    "collapsed": false,
    "executionInfo": {
     "elapsed": 1503,
     "status": "ok",
     "timestamp": 1553451110579,
     "user": {
      "displayName": "Trisha Mazumder",
      "photoUrl": "https://lh6.googleusercontent.com/-vGm2agvmKUk/AAAAAAAAAAI/AAAAAAAAB98/NfGgBYSGMss/s64/photo.jpg",
      "userId": "04782947816564362860"
     },
     "user_tz": -330
    },
    "id": "xmRHbJ7K0p6m",
    "outputId": "377ef659-278c-4856-f688-06191c93d391"
   },
   "outputs": [
    {
     "data": {
      "text/html": [
       "<div>\n",
       "<style scoped>\n",
       "    .dataframe tbody tr th:only-of-type {\n",
       "        vertical-align: middle;\n",
       "    }\n",
       "\n",
       "    .dataframe tbody tr th {\n",
       "        vertical-align: top;\n",
       "    }\n",
       "\n",
       "    .dataframe thead th {\n",
       "        text-align: right;\n",
       "    }\n",
       "</style>\n",
       "<table border=\"1\" class=\"dataframe\">\n",
       "  <thead>\n",
       "    <tr style=\"text-align: right;\">\n",
       "      <th></th>\n",
       "      <th>Age</th>\n",
       "      <th>Temp_water</th>\n",
       "      <th>Length</th>\n",
       "    </tr>\n",
       "  </thead>\n",
       "  <tbody>\n",
       "    <tr>\n",
       "      <th>Age</th>\n",
       "      <td>1.000000</td>\n",
       "      <td>0.000000</td>\n",
       "      <td>0.879116</td>\n",
       "    </tr>\n",
       "    <tr>\n",
       "      <th>Temp_water</th>\n",
       "      <td>0.000000</td>\n",
       "      <td>1.000000</td>\n",
       "      <td>-0.181118</td>\n",
       "    </tr>\n",
       "    <tr>\n",
       "      <th>Length</th>\n",
       "      <td>0.879116</td>\n",
       "      <td>-0.181118</td>\n",
       "      <td>1.000000</td>\n",
       "    </tr>\n",
       "  </tbody>\n",
       "</table>\n",
       "</div>"
      ],
      "text/plain": [
       "                 Age  Temp_water    Length\n",
       "Age         1.000000    0.000000  0.879116\n",
       "Temp_water  0.000000    1.000000 -0.181118\n",
       "Length      0.879116   -0.181118  1.000000"
      ]
     },
     "execution_count": 5,
     "metadata": {
      "tags": []
     },
     "output_type": "execute_result"
    }
   ],
   "source": [
    "fishDf.corr()"
   ]
  },
  {
   "cell_type": "code",
   "execution_count": 0,
   "metadata": {
    "colab": {},
    "colab_type": "code",
    "collapsed": true,
    "id": "Ry8lJm_F2CWB"
   },
   "outputs": [],
   "source": [
    "X = fishDf[['Age','Temp_water']]\n",
    "y = fishDf['Length']\n",
    "X_train, X_test, y_train, y_test = train_test_split(X, y, test_size=0.4, random_state=101)"
   ]
  },
  {
   "cell_type": "code",
   "execution_count": 7,
   "metadata": {
    "colab": {
     "base_uri": "https://localhost:8080/",
     "height": 51
    },
    "colab_type": "code",
    "collapsed": false,
    "executionInfo": {
     "elapsed": 1472,
     "status": "ok",
     "timestamp": 1553451110592,
     "user": {
      "displayName": "Trisha Mazumder",
      "photoUrl": "https://lh6.googleusercontent.com/-vGm2agvmKUk/AAAAAAAAAAI/AAAAAAAAB98/NfGgBYSGMss/s64/photo.jpg",
      "userId": "04782947816564362860"
     },
     "user_tz": -330
    },
    "id": "e5viZFQ82KOA",
    "outputId": "d78bf6cd-e7f8-4fc2-e037-e22bd8c2763c"
   },
   "outputs": [
    {
     "data": {
      "text/plain": [
       "LinearRegression(copy_X=True, fit_intercept=True, n_jobs=None,\n",
       "         normalize=False)"
      ]
     },
     "execution_count": 7,
     "metadata": {
      "tags": []
     },
     "output_type": "execute_result"
    }
   ],
   "source": [
    "lm = LinearRegression()\n",
    "lm.fit(X_train,y_train)"
   ]
  },
  {
   "cell_type": "code",
   "execution_count": 0,
   "metadata": {
    "colab": {},
    "colab_type": "code",
    "collapsed": true,
    "id": "ZaZUzLk62Rkg"
   },
   "outputs": [],
   "source": [
    "predictions = lm.predict(X_test)"
   ]
  },
  {
   "cell_type": "code",
   "execution_count": 9,
   "metadata": {
    "colab": {
     "base_uri": "https://localhost:8080/",
     "height": 34
    },
    "colab_type": "code",
    "collapsed": false,
    "executionInfo": {
     "elapsed": 1443,
     "status": "ok",
     "timestamp": 1553451110606,
     "user": {
      "displayName": "Trisha Mazumder",
      "photoUrl": "https://lh6.googleusercontent.com/-vGm2agvmKUk/AAAAAAAAAAI/AAAAAAAAB98/NfGgBYSGMss/s64/photo.jpg",
      "userId": "04782947816564362860"
     },
     "user_tz": -330
    },
    "id": "c6cFK8A52Vsn",
    "outputId": "b47bb2c2-a920-4d05-8728-787e14dc1a94"
   },
   "outputs": [
    {
     "data": {
      "text/plain": [
       "array([  25.83818092, -109.21975425])"
      ]
     },
     "execution_count": 9,
     "metadata": {
      "tags": []
     },
     "output_type": "execute_result"
    }
   ],
   "source": [
    "lm.coef_"
   ]
  },
  {
   "cell_type": "code",
   "execution_count": 10,
   "metadata": {
    "colab": {
     "base_uri": "https://localhost:8080/",
     "height": 34
    },
    "colab_type": "code",
    "collapsed": false,
    "executionInfo": {
     "elapsed": 1423,
     "status": "ok",
     "timestamp": 1553451110612,
     "user": {
      "displayName": "Trisha Mazumder",
      "photoUrl": "https://lh6.googleusercontent.com/-vGm2agvmKUk/AAAAAAAAAAI/AAAAAAAAB98/NfGgBYSGMss/s64/photo.jpg",
      "userId": "04782947816564362860"
     },
     "user_tz": -330
    },
    "id": "pDFOTqj-2bFM",
    "outputId": "329db0b0-a86e-4865-9d85-d1f330cc66f0"
   },
   "outputs": [
    {
     "data": {
      "text/plain": [
       "0.8621695297175425"
      ]
     },
     "execution_count": 10,
     "metadata": {
      "tags": []
     },
     "output_type": "execute_result"
    }
   ],
   "source": [
    "lm.score(X_test, y_test)"
   ]
  }
 ],
 "metadata": {
  "colab": {
   "collapsed_sections": [],
   "name": "LinearRegression_Demo1.ipynb",
   "provenance": [],
   "version": "0.3.2"
  },
  "kernelspec": {
   "display_name": "Python 2",
   "language": "python",
   "name": "python2"
  },
  "language_info": {
   "codemirror_mode": {
    "name": "ipython",
    "version": 2
   },
   "file_extension": ".py",
   "mimetype": "text/x-python",
   "name": "python",
   "nbconvert_exporter": "python",
   "pygments_lexer": "ipython2",
   "version": "2.7.11"
  }
 },
 "nbformat": 4,
 "nbformat_minor": 0
}
