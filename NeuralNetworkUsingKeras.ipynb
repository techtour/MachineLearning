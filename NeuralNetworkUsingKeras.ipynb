{
  "nbformat": 4,
  "nbformat_minor": 0,
  "metadata": {
    "colab": {
      "name": "NeuralNetworkUsingKeras.ipynb",
      "version": "0.3.2",
      "provenance": [],
      "toc_visible": true,
      "include_colab_link": true
    },
    "kernelspec": {
      "name": "python3",
      "display_name": "Python 3"
    }
  },
  "cells": [
    {
      "cell_type": "markdown",
      "metadata": {
        "id": "view-in-github",
        "colab_type": "text"
      },
      "source": [
        "<a href=\"https://colab.research.google.com/github/techtour/MachineLearning/blob/master/NeuralNetworkUsingKeras.ipynb\" target=\"_parent\"><img src=\"https://colab.research.google.com/assets/colab-badge.svg\" alt=\"Open In Colab\"/></a>"
      ]
    },
    {
      "metadata": {
        "id": "7G5fBB9SOqfx",
        "colab_type": "text"
      },
      "cell_type": "markdown",
      "source": [
        "# **Building a Neural Network to classify MNIST digits**\n"
      ]
    },
    {
      "metadata": {
        "id": "YC8rcCM4Zyzq",
        "colab_type": "text"
      },
      "cell_type": "markdown",
      "source": [
        "## Loading dependencies"
      ]
    },
    {
      "metadata": {
        "id": "SkKorQFgZ3VG",
        "colab_type": "code",
        "outputId": "f71d6580-dbcb-43dc-e4d1-1efcf83f4457",
        "colab": {
          "base_uri": "https://localhost:8080/",
          "height": 34
        }
      },
      "cell_type": "code",
      "source": [
        "import numpy as np\n",
        "np.random.seed(58)  # for reproducibility\n",
        "import keras\n",
        "from keras.datasets import mnist\n",
        "from keras.models import Sequential\n",
        "from keras.layers import Dense\n",
        "from keras.optimizers import SGD"
      ],
      "execution_count": 1,
      "outputs": [
        {
          "output_type": "stream",
          "text": [
            "Using TensorFlow backend.\n"
          ],
          "name": "stderr"
        }
      ]
    },
    {
      "metadata": {
        "id": "XUVUEZBudoK7",
        "colab_type": "text"
      },
      "cell_type": "markdown",
      "source": [
        "## Loading MNIST data"
      ]
    },
    {
      "metadata": {
        "id": "E82dNYQ3dp-6",
        "colab_type": "code",
        "colab": {
          "base_uri": "https://localhost:8080/",
          "height": 51
        },
        "outputId": "430a3522-3b58-4646-ca18-41ebbc5a3fef"
      },
      "cell_type": "code",
      "source": [
        "(X_train, y_train), (X_test, y_test) = mnist.load_data()"
      ],
      "execution_count": 2,
      "outputs": [
        {
          "output_type": "stream",
          "text": [
            "Downloading data from https://s3.amazonaws.com/img-datasets/mnist.npz\n",
            "11493376/11490434 [==============================] - 1s 0us/step\n"
          ],
          "name": "stdout"
        }
      ]
    },
    {
      "metadata": {
        "id": "VOUABZswd6UL",
        "colab_type": "code",
        "colab": {}
      },
      "cell_type": "code",
      "source": [
        "X_train.shape"
      ],
      "execution_count": 0,
      "outputs": []
    },
    {
      "metadata": {
        "id": "8PZosuOAeYi9",
        "colab_type": "code",
        "colab": {}
      },
      "cell_type": "code",
      "source": [
        "y_train.shape"
      ],
      "execution_count": 0,
      "outputs": []
    },
    {
      "metadata": {
        "id": "l6T7GaHbegbt",
        "colab_type": "code",
        "colab": {}
      },
      "cell_type": "code",
      "source": [
        "y_train[0:14]"
      ],
      "execution_count": 0,
      "outputs": []
    },
    {
      "metadata": {
        "id": "wBAZ4yb_ej0f",
        "colab_type": "code",
        "colab": {}
      },
      "cell_type": "code",
      "source": [
        "X_train[0]"
      ],
      "execution_count": 0,
      "outputs": []
    },
    {
      "metadata": {
        "id": "1-Xuhm2SfElh",
        "colab_type": "code",
        "colab": {}
      },
      "cell_type": "code",
      "source": [
        "X_test.shape"
      ],
      "execution_count": 0,
      "outputs": []
    },
    {
      "metadata": {
        "id": "RnA68f0jfJTF",
        "colab_type": "code",
        "colab": {}
      },
      "cell_type": "code",
      "source": [
        "y_test.shape"
      ],
      "execution_count": 0,
      "outputs": []
    },
    {
      "metadata": {
        "id": "NLu2xqQ7fQCi",
        "colab_type": "text"
      },
      "cell_type": "markdown",
      "source": [
        "## Preprocessing data"
      ]
    },
    {
      "metadata": {
        "id": "7rcV4Zc7fPSh",
        "colab_type": "code",
        "colab": {}
      },
      "cell_type": "code",
      "source": [
        "X_train = X_train.reshape(60000, 784).astype('float32')\n",
        "X_test = X_test.reshape(10000, 784).astype('float32')"
      ],
      "execution_count": 0,
      "outputs": []
    },
    {
      "metadata": {
        "id": "mTz1WiF8fPRE",
        "colab_type": "code",
        "colab": {}
      },
      "cell_type": "code",
      "source": [
        "X_train /= 255\n",
        "X_test /= 255"
      ],
      "execution_count": 0,
      "outputs": []
    },
    {
      "metadata": {
        "id": "u5G36sl4gR9a",
        "colab_type": "code",
        "colab": {}
      },
      "cell_type": "code",
      "source": [
        "X_train[0]"
      ],
      "execution_count": 0,
      "outputs": []
    },
    {
      "metadata": {
        "id": "K8bB3z87fK1p",
        "colab_type": "code",
        "colab": {}
      },
      "cell_type": "code",
      "source": [
        "n_classes = 10\n",
        "y_train = keras.utils.to_categorical(y_train, n_classes)\n",
        "y_test = keras.utils.to_categorical(y_test, n_classes)"
      ],
      "execution_count": 0,
      "outputs": []
    },
    {
      "metadata": {
        "id": "JeRnfituhLxJ",
        "colab_type": "code",
        "colab": {}
      },
      "cell_type": "code",
      "source": [
        "y_train[0]"
      ],
      "execution_count": 0,
      "outputs": []
    },
    {
      "metadata": {
        "id": "iZqQ0l1aulZF",
        "colab_type": "text"
      },
      "cell_type": "markdown",
      "source": [
        "## Designing Network architecture"
      ]
    },
    {
      "metadata": {
        "id": "yKgaYJgasQao",
        "colab_type": "code",
        "colab": {}
      },
      "cell_type": "code",
      "source": [
        "model = Sequential()\n",
        "model.add(Dense((64), activation='relu', input_shape =(784,)))\n",
        "model.add(Dense((10), activation='softmax'))"
      ],
      "execution_count": 0,
      "outputs": []
    },
    {
      "metadata": {
        "id": "UlGpI59qt-Iq",
        "colab_type": "code",
        "colab": {}
      },
      "cell_type": "code",
      "source": [
        "model.summary()"
      ],
      "execution_count": 0,
      "outputs": []
    },
    {
      "metadata": {
        "id": "t_bUXqnCuthj",
        "colab_type": "text"
      },
      "cell_type": "markdown",
      "source": [
        "## Configuring the model"
      ]
    },
    {
      "metadata": {
        "id": "GGjGlLS7uxop",
        "colab_type": "code",
        "colab": {}
      },
      "cell_type": "code",
      "source": [
        "model.compile(loss='mean_squared_error', optimizer=SGD(lr=0.01, momentum = 0.9), metrics=['accuracy'])"
      ],
      "execution_count": 0,
      "outputs": []
    },
    {
      "metadata": {
        "id": "dYF-IGQCvWav",
        "colab_type": "text"
      },
      "cell_type": "markdown",
      "source": [
        "## Training the model"
      ]
    },
    {
      "metadata": {
        "id": "FT-mD9D8vbwI",
        "colab_type": "code",
        "outputId": "bd3cd0a5-3e0a-4236-c420-7ed856d4bceb",
        "colab": {
          "base_uri": "https://localhost:8080/",
          "height": 411
        }
      },
      "cell_type": "code",
      "source": [
        "model.fit(X_train, y_train, batch_size= 128, epochs=10, verbose =1, validation_data=(X_test, y_test))"
      ],
      "execution_count": 22,
      "outputs": [
        {
          "output_type": "stream",
          "text": [
            "Train on 60000 samples, validate on 10000 samples\n",
            "Epoch 1/10\n",
            "60000/60000 [==============================] - 2s 27us/step - loss: 0.0329 - acc: 0.7883 - val_loss: 0.0155 - val_acc: 0.9056\n",
            "Epoch 2/10\n",
            "60000/60000 [==============================] - 1s 23us/step - loss: 0.0144 - acc: 0.9093 - val_loss: 0.0125 - val_acc: 0.9206\n",
            "Epoch 3/10\n",
            "60000/60000 [==============================] - 1s 20us/step - loss: 0.0123 - acc: 0.9223 - val_loss: 0.0112 - val_acc: 0.9289\n",
            "Epoch 4/10\n",
            "60000/60000 [==============================] - 1s 20us/step - loss: 0.0111 - acc: 0.9304 - val_loss: 0.0103 - val_acc: 0.9343\n",
            "Epoch 5/10\n",
            "60000/60000 [==============================] - 1s 20us/step - loss: 0.0102 - acc: 0.9364 - val_loss: 0.0097 - val_acc: 0.9369\n",
            "Epoch 6/10\n",
            "60000/60000 [==============================] - 1s 20us/step - loss: 0.0095 - acc: 0.9408 - val_loss: 0.0092 - val_acc: 0.9417\n",
            "Epoch 7/10\n",
            "60000/60000 [==============================] - 1s 20us/step - loss: 0.0088 - acc: 0.9446 - val_loss: 0.0086 - val_acc: 0.9454\n",
            "Epoch 8/10\n",
            "60000/60000 [==============================] - 1s 21us/step - loss: 0.0083 - acc: 0.9487 - val_loss: 0.0081 - val_acc: 0.9485\n",
            "Epoch 9/10\n",
            "60000/60000 [==============================] - 1s 21us/step - loss: 0.0078 - acc: 0.9521 - val_loss: 0.0078 - val_acc: 0.9489\n",
            "Epoch 10/10\n",
            "60000/60000 [==============================] - 1s 21us/step - loss: 0.0074 - acc: 0.9549 - val_loss: 0.0074 - val_acc: 0.9523\n"
          ],
          "name": "stdout"
        },
        {
          "output_type": "execute_result",
          "data": {
            "text/plain": [
              "<keras.callbacks.History at 0x7f085cc38128>"
            ]
          },
          "metadata": {
            "tags": []
          },
          "execution_count": 22
        }
      ]
    },
    {
      "metadata": {
        "id": "hTsT-ewj2MC1",
        "colab_type": "text"
      },
      "cell_type": "markdown",
      "source": [
        "## Evaluating the model"
      ]
    },
    {
      "metadata": {
        "id": "uM046mYCvkDj",
        "colab_type": "code",
        "colab": {
          "base_uri": "https://localhost:8080/",
          "height": 34
        },
        "outputId": "dd9b7af3-05c0-4a7e-cb29-fae794f49eb9"
      },
      "cell_type": "code",
      "source": [
        "score = model.evaluate(X_test, y_test)"
      ],
      "execution_count": 23,
      "outputs": [
        {
          "output_type": "stream",
          "text": [
            "10000/10000 [==============================] - 0s 25us/step\n"
          ],
          "name": "stdout"
        }
      ]
    },
    {
      "metadata": {
        "id": "q89LbznW2Yg7",
        "colab_type": "code",
        "colab": {
          "base_uri": "https://localhost:8080/",
          "height": 34
        },
        "outputId": "42637fca-9bd4-4d18-bb8a-6350cfbf6e1a"
      },
      "cell_type": "code",
      "source": [
        "score[1]"
      ],
      "execution_count": 24,
      "outputs": [
        {
          "output_type": "execute_result",
          "data": {
            "text/plain": [
              "0.9523"
            ]
          },
          "metadata": {
            "tags": []
          },
          "execution_count": 24
        }
      ]
    },
    {
      "metadata": {
        "id": "gV_A659U2x9b",
        "colab_type": "code",
        "colab": {}
      },
      "cell_type": "code",
      "source": [
        ""
      ],
      "execution_count": 0,
      "outputs": []
    }
  ]
}